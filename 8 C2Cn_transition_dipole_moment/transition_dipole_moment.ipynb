{
 "cells": [
  {
   "cell_type": "code",
   "execution_count": 1,
   "metadata": {},
   "outputs": [
    {
     "name": "stderr",
     "output_type": "stream",
     "text": [
      "C:\\Users\\kenne\\pythonfolder\\Miniconda3\\lib\\site-packages\\numpy\\_distributor_init.py:32: UserWarning: loaded more than 1 DLL from .libs:\n",
      "C:\\Users\\kenne\\pythonfolder\\Miniconda3\\lib\\site-packages\\numpy\\.libs\\libopenblas.NOIJJG62EMASZI6NYURL6JBKM4EVBGM7.gfortran-win_amd64.dll\n",
      "C:\\Users\\kenne\\pythonfolder\\Miniconda3\\lib\\site-packages\\numpy\\.libs\\libopenblas.XWYDX2IKJW2NMTWSFYNGFUWKQU3LYTCZ.gfortran-win_amd64.dll\n",
      "  stacklevel=1)\n"
     ]
    }
   ],
   "source": [
    "import numpy as np\n",
    "import matplotlib.pyplot as plt\n",
    "import pandas as pd"
   ]
  },
  {
   "cell_type": "code",
   "execution_count": 2,
   "metadata": {},
   "outputs": [
    {
     "name": "stdout",
     "output_type": "stream",
     "text": [
      "|u_x| = 0.6549442706813096 eA\n",
      "|u_y| = 0.6562037502570546 eA\n",
      "|u_z| = 1.1945653649207733e-08 eA\n",
      "u = 0.9271220844903304 eA\n",
      "|u_z|/|u| = 1.2884660875891714e-08\n",
      "sqrt(u_x^2 + u_y^2)/|u| = 1.0\n"
     ]
    }
   ],
   "source": [
    "# path to *.oct files\n",
    "gs_C2Cn = pd.read_csv('C:/DFT/Amirhosein/8 C2Cn_transition_dipole_moment/ground state/gs_wf.oct', header=None, delim_whitespace=True)\n",
    "es_C2Cn = pd.read_csv('C:/DFT/Amirhosein/8 C2Cn_transition_dipole_moment/excited state/es_wf.oct', header=None, delim_whitespace=True)\n",
    "\n",
    "gs_C2Cn_real = gs_C2Cn.iloc[:,0].values.ravel()\n",
    "gs_C2Cn_complex = gs_C2Cn.iloc[:,1].values.ravel()\n",
    "\n",
    "es_C2Cn_real = es_C2Cn.iloc[:,0].values.ravel()\n",
    "es_C2Cn_complex = es_C2Cn.iloc[:,1].values.ravel()\n",
    "\n",
    "gs_C2Cn_arr = np.zeros(len(gs_C2Cn_real), dtype='G')\n",
    "\n",
    "for i in range(len(gs_C2Cn_arr)):\n",
    "    gs_C2Cn_arr[i] = complex(gs_C2Cn_real[i], gs_C2Cn_complex[i])\n",
    "    \n",
    "es_C2Cn_arr = np.zeros(len(es_C2Cn_real), dtype='G')\n",
    "\n",
    "for i in range(len(es_C2Cn_arr)):\n",
    "    es_C2Cn_arr[i] = complex(es_C2Cn_real[i], es_C2Cn_complex[i])\n",
    "\n",
    "\n",
    "# change lattice vectors\n",
    "a = 12.611503493 # A\n",
    "b = 12.611503471\n",
    "c = 14.999999999\n",
    "\n",
    "# number of points (taken from wfck2r.oct)\n",
    "nr1x = 120\n",
    "nr2x = 120\n",
    "nr3x = 144\n",
    "\n",
    "nr1 = nr1x - 1\n",
    "nr2 = nr2x - 1\n",
    "nr3 = nr3x - 1\n",
    "\n",
    "r_arr = np.zeros((nr1x*nr2x*nr3x,3))\n",
    "\n",
    "# The output of the wave function file has a specific order and corresponds to points\n",
    "# with coordinates (x,y,z). The following code was written based off the real-space array\n",
    "# ordering which was previously specified in the QE developpers manual. The new version of\n",
    "# QE doesn't seem to include this information in the manual. If you are going to run this\n",
    "# calculation then I would advise asking about the real-space array ordering on the QE forum.\n",
    "for k in range(nr3x):\n",
    "    for j in range(nr2x):\n",
    "        for i in range(nr1x):\n",
    "            index = (i+1) + (j*nr1x) + (k*nr2x*nr1x)\n",
    "            r_arr[index-1] = np.array([(i/nr1)*a, (j/nr2)*b, (k/nr3)*c])\n",
    "            \n",
    "r_x = [i[0] for i in r_arr]\n",
    "r_y = [i[1] for i in r_arr]\n",
    "r_z = [i[2] for i in r_arr]\n",
    "\n",
    "dip_x_C2Cn = np.sum(gs_C2Cn_arr*es_C2Cn_arr.conjugate()*r_x)/len(gs_C2Cn_arr) \n",
    "print('|u_x| =', np.absolute(dip_x_C2Cn), 'eA')\n",
    "\n",
    "dip_y_C2Cn = np.sum(gs_C2Cn_arr*es_C2Cn_arr.conjugate()*r_y)/len(gs_C2Cn_arr) \n",
    "print('|u_y| =', np.absolute(dip_y_C2Cn), 'eA')\n",
    "\n",
    "dip_z_C2Cn = np.sum(gs_C2Cn_arr*es_C2Cn_arr.conjugate()*r_z)/len(gs_C2Cn_arr) \n",
    "print('|u_z| =', np.absolute(dip_z_C2Cn), 'eA')\n",
    "\n",
    "u_C2Cn = np.sqrt(np.absolute(dip_x_C2Cn)**2 + np.absolute(dip_y_C2Cn)**2 + np.absolute(dip_z_C2Cn)**2)\n",
    "print('u =', u_C2Cn, 'eA')\n",
    "\n",
    "print('|u_z|/|u| =', np.absolute(dip_z_C2Cn)/u_C2Cn)\n",
    "\n",
    "print('sqrt(u_x^2 + u_y^2)/|u| =', np.sqrt(np.absolute(dip_x_C2Cn)**2 + np.absolute(dip_y_C2Cn)**2) / u_C2Cn)"
   ]
  },
  {
   "cell_type": "code",
   "execution_count": null,
   "metadata": {},
   "outputs": [],
   "source": []
  }
 ],
 "metadata": {
  "kernelspec": {
   "display_name": "Python 3",
   "language": "python",
   "name": "python3"
  },
  "language_info": {
   "codemirror_mode": {
    "name": "ipython",
    "version": 3
   },
   "file_extension": ".py",
   "mimetype": "text/x-python",
   "name": "python",
   "nbconvert_exporter": "python",
   "pygments_lexer": "ipython3",
   "version": "3.7.7"
  }
 },
 "nbformat": 4,
 "nbformat_minor": 4
}
